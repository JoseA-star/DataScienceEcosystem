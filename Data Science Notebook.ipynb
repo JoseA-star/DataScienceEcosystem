{
    "cells": [
        {
            "cell_type": "markdown",
            "metadata": {
                "collapsed": true,
                "id": "f4bc7ef5-6660-415e-aed7-379b7e6550a2",
                "jupyter": {
                    "outputs_hidden": true
                }
            },
            "source": "This program prints Hello, World!"
        },
        {
            "cell_type": "code",
            "execution_count": 1,
            "metadata": {
                "id": "fc31f248-e75c-4b2f-8145-2cbb4a4ed2a3"
            },
            "outputs": [
                {
                    "name": "stdout",
                    "output_type": "stream",
                    "text": "Hello World!\n"
                }
            ],
            "source": "print('Hello World!')"
        },
        {
            "cell_type": "code",
            "execution_count": null,
            "metadata": {
                "id": "b976f36f-b942-4d12-b2fd-5cd5e2dc1f2a"
            },
            "outputs": [],
            "source": ""
        }
    ],
    "metadata": {
        "kernelspec": {
            "display_name": "Python 3.11",
            "language": "python",
            "name": "python3"
        },
        "language_info": {
            "codemirror_mode": {
                "name": "ipython",
                "version": 3
            },
            "file_extension": ".py",
            "mimetype": "text/x-python",
            "name": "python",
            "nbconvert_exporter": "python",
            "pygments_lexer": "ipython3",
            "version": "3.11.9"
        }
    },
    "nbformat": 4,
    "nbformat_minor": 4
}